{
 "cells": [
  {
   "cell_type": "markdown",
   "metadata": {},
   "source": [
    "Python Type Hierarchy (focus on types covered in the course)"
   ]
  },
  {
   "cell_type": "code",
   "execution_count": 5,
   "metadata": {},
   "outputs": [
    {
     "name": "stdout",
     "output_type": "stream",
     "text": [
      "will evaluate true\n",
      "This is\n",
      "a multi-line string.\n",
      "1 2 3\n"
     ]
    }
   ],
   "source": [
    "# Numbers\n",
    "integer = 1\n",
    "floaty = 1.2\n",
    "slip = (1, 2, 3, 4)\n"
   ]
  },
  {
   "cell_type": "markdown",
   "metadata": {},
   "source": [
    "Multi-Line Statements and Strings"
   ]
  },
  {
   "cell_type": "code",
   "execution_count": null,
   "metadata": {},
   "outputs": [],
   "source": [
    "if integer     \\\n",
    "   and floaty  \\\n",
    "   and slip:\n",
    "    print('will evaluate true')\n",
    "\n",
    "multik = '''This is\n",
    "a multi-line string.'''\n",
    "print(multik)\n",
    "\n",
    "\n",
    "def foo(\n",
    "    arg1  # argument 1\n",
    "    , arg2  # argument 2\n",
    "    , arg3  # argument 3\n",
    "):\n",
    "    print(arg1, arg2, arg3)\n",
    "\n",
    "\n",
    "foo(1, 2, 3)"
   ]
  },
  {
   "cell_type": "markdown",
   "metadata": {},
   "source": [
    "Naming Conventions"
   ]
  },
  {
   "cell_type": "code",
   "execution_count": 6,
   "metadata": {},
   "outputs": [
    {
     "name": "stdout",
     "output_type": "stream",
     "text": [
      "1 2\n"
     ]
    }
   ],
   "source": [
    "# https://peps.python.org/pep-0008/\n",
    "\n",
    "# Case sensitive, but don't do it\n",
    "my_var = 1\n",
    "My_var = 2\n",
    "print(my_var, My_var)\n",
    "\n",
    "# Must start with _ or a letter (less strict than it seems, not just ASCII set)\n",
    "# Followed by any number of underscores, letters, or digit\n",
    "\n",
    "# _ indicates an 'internal use' object, will not be included in from module import * (can still be accessed if you try)\n",
    "_my_var = 1\n",
    "__my_var = 1    # used to mangle class attributes, useful in inheritance chains\n",
    "# system defined names with a particular meaning for the interpreter. Don't invent, use the ones that exist.\n",
    "__my_var__ = 1\n",
    "\n",
    "\n",
    "utilities = NotImplemented  # for packages\n",
    "db_utils = NotImplemented  # for modules\n",
    "BankAccount = NotImplemented  # for classes\n",
    "foo_bar = NotImplemented  # for functions\n",
    "my_var = NotImplemented  # Same as functions\n",
    "MIN_APR = NotImplemented  # all uppercase, underscores\n"
   ]
  },
  {
   "cell_type": "markdown",
   "metadata": {},
   "source": [
    "Conditionals"
   ]
  },
  {
   "cell_type": "code",
   "execution_count": 6,
   "metadata": {},
   "outputs": [
    {
     "name": "stdout",
     "output_type": "stream",
     "text": [
      "a is less than 4\n"
     ]
    }
   ],
   "source": [
    "a = 3\n",
    "\n",
    "if a < 3:\n",
    "    print('a is less than 3')\n",
    "elif a < 4:\n",
    "    print('a is less than 4')\n",
    "else:\n",
    "    print('end')"
   ]
  },
  {
   "cell_type": "code",
   "execution_count": 8,
   "metadata": {},
   "outputs": [
    {
     "name": "stdout",
     "output_type": "stream",
     "text": [
      "test\n",
      "a < 5\n"
     ]
    }
   ],
   "source": [
    "#Ternary operator\n",
    "\n",
    "a = 2\n",
    "\n",
    "b = 'a < 5' if a < 5 else 'a > 5'\n",
    "\n",
    "print(b)"
   ]
  },
  {
   "cell_type": "markdown",
   "metadata": {},
   "source": [
    "Functions"
   ]
  },
  {
   "cell_type": "code",
   "execution_count": 12,
   "metadata": {},
   "outputs": [
    {
     "name": "stdout",
     "output_type": "stream",
     "text": [
      "3\n",
      "3.4641016151377544\n"
     ]
    }
   ],
   "source": [
    "#Pre-defined\n",
    "s = [1,2,3]\n",
    "\n",
    "print(len(s))\n",
    "\n",
    "from math import sqrt\n",
    "\n",
    "print(sqrt(12))"
   ]
  },
  {
   "cell_type": "code",
   "execution_count": 20,
   "metadata": {},
   "outputs": [
    {
     "name": "stdout",
     "output_type": "stream",
     "text": [
      "bar\n",
      "4\n"
     ]
    }
   ],
   "source": [
    "#Defining\n",
    "\n",
    "def foo():\n",
    "    def bar():\n",
    "        print('bar')\n",
    "    return bar\n",
    "\n",
    "bar = foo()\n",
    "\n",
    "bar()\n",
    "\n",
    "\n",
    "#Lambda\n",
    "fn1 = lambda x: x**2\n",
    "\n",
    "print(fn1(2))"
   ]
  },
  {
   "cell_type": "code",
   "execution_count": null,
   "metadata": {},
   "outputs": [],
   "source": [
    "#While\n",
    "\n",
    "x = True\n",
    "i = 0\n",
    "\n",
    "while x:\n",
    "    i += 1\n",
    "    print (i)\n",
    "    if (i > 5):\n",
    "        x = False\n",
    "\n",
    "i = 0\n",
    "\n",
    "while True:\n",
    "    print(i)\n",
    "    if i == 0:\n",
    "        break\n",
    "\n",
    "\n",
    "name = ''\n",
    "\n",
    "while True:\n",
    "    name = input('Please enter your name:')\n",
    "    if len(name) > 2 and name.isprintable() and name.isalpha:\n",
    "        break\n",
    "\n",
    "print('Hello there, {0}'.format(name) + '.')"
   ]
  },
  {
   "cell_type": "code",
   "execution_count": 45,
   "metadata": {},
   "outputs": [
    {
     "name": "stdout",
     "output_type": "stream",
     "text": [
      "==============================\n",
      "1/1\n",
      "always executes\n",
      "reached end of while code block\n",
      "Code executed without a ZeroDivisionError.\n"
     ]
    }
   ],
   "source": [
    "a = 0\n",
    "b = 2\n",
    "\n",
    "\n",
    "while a < 5:\n",
    "    print( '=' * 30)\n",
    "    a += 1\n",
    "    b -= 1\n",
    "\n",
    "    try:\n",
    "        a / b\n",
    "        print('{0}/{1}'.format(a, b))\n",
    "    except ZeroDivisionError:\n",
    "        print('Zero division error: {0} / {1}'.format(a, b))\n",
    "        break\n",
    "    finally: #finally executes even if continue/break is triggered above\n",
    "        print( 'always executes')\n",
    "\n",
    "    print('reached end of while code block')\n",
    "else:\n",
    "    print('Code executed without a ZeroDivisionError.')"
   ]
  },
  {
   "cell_type": "code",
   "execution_count": 66,
   "metadata": {},
   "outputs": [
    {
     "name": "stdout",
     "output_type": "stream",
     "text": [
      "0\n",
      "1\n",
      "2\n",
      "3\n",
      "------------------------------\n",
      "1\n",
      "2\n",
      "3\n",
      "4\n",
      "------------------------------\n",
      "h\n",
      "e\n",
      "l\n",
      "l\n",
      "------------------------------\n",
      "2\n",
      "3\n",
      "4\n"
     ]
    }
   ],
   "source": [
    "#For loop\n",
    "#Requires an iterable\n",
    "\n",
    "l = [1,2,3,4]\n",
    "\n",
    "for v in range(5):\n",
    "    print(v)\n",
    "    if v == 3:\n",
    "        break\n",
    "else:\n",
    "    print('else only executes if the loop was completed without encountering a break statement')\n",
    "\n",
    "print('-' * 30)\n",
    "\n",
    "for v in l:\n",
    "    print(v)\n",
    "\n",
    "print('-' * 30)\n",
    "\n",
    "for v in 'hello':\n",
    "    if v == 'o':\n",
    "        continue\n",
    "    print(v)\n",
    "\n",
    "print('-' * 30)\n",
    "\n",
    "for v in range(2, 5):\n",
    "    print(v)\n",
    "\n",
    "\n"
   ]
  },
  {
   "cell_type": "code",
   "execution_count": null,
   "metadata": {},
   "outputs": [],
   "source": [
    "a = 'indexable'\n",
    "\n",
    "for v in range(len(a)):\n",
    "    print('{0} is index of: {1}'.format(v, a[v]))\n",
    "\n",
    "print('-' * 30)\n",
    "\n",
    "for v, i in enumerate(a):\n",
    "    print(v, i)"
   ]
  },
  {
   "cell_type": "markdown",
   "metadata": {},
   "source": [
    "**Classes**"
   ]
  },
  {
   "cell_type": "code",
   "execution_count": 112,
   "metadata": {},
   "outputs": [
    {
     "name": "stdout",
     "output_type": "stream",
     "text": [
      "True\n",
      "200\n",
      "60\n",
      "True\n",
      "True\n",
      "False\n",
      "True\n"
     ]
    }
   ],
   "source": [
    "class Rectangle:\n",
    "    def __init__(self, width, height):\n",
    "        self.width = width\n",
    "        self.height = height\n",
    "\n",
    "    def area(self):\n",
    "        return self.width * self.height\n",
    "\n",
    "    def perimeter(self):\n",
    "        return self.width * 2 + self.height * 2\n",
    "\n",
    "\n",
    "    def __str__(self):\n",
    "        return 'Rectangle: height {0}, width: {1}'.format(self.height, self.width)\n",
    "\n",
    "    def __repr__(self):\n",
    "        return 'Rectangle({0}, {1})'.format(self.width, self.height)\n",
    "\n",
    "    def __eq__(self, other):\n",
    "        if isinstance(other, Rectangle): #Assures that the comparison only applies to classes and subclasses of Rectangle\n",
    "            return (self.height, self.width) == (other.height, other.width)\n",
    "        else:\n",
    "            return False\n",
    "\n",
    "    def __lt__(self, other):\n",
    "        if isinstance(other, Rectangle):\n",
    "            return self.area() < other.area()\n",
    "        else:\n",
    "            return NotImplemented\n",
    "\n",
    "\n",
    "r1 = Rectangle(\n",
    "    height = 10,\n",
    "    width = 20,\n",
    ")\n",
    "r2 = Rectangle(\n",
    "    height = 10,\n",
    "    width = 20,\n",
    ")\n",
    "\n",
    "print(r1 is not r2)\n",
    "\n",
    "print(r1.area())\n",
    "print(r1.perimeter())\n",
    "\n",
    "#Result of overloading __str__\n",
    "str(r1)\n",
    "print(r1 is not r2)\n",
    "#Result of overloading __repr__\n",
    "r1\n",
    "#Result of building __eq__\n",
    "#Otherwise comparison will always be false\n",
    "r1 == r2\n",
    "\n",
    "r1 == 1000\n",
    "\n",
    "\n",
    "r1 = Rectangle(\n",
    "    height = 10,\n",
    "    width = 20,\n",
    ")\n",
    "r2 = Rectangle(\n",
    "    height = 10,\n",
    "    width = 200,\n",
    ")\n",
    "\n",
    "print(r1 < r2)\n",
    "print(r1 > r2)\n",
    "print(r2 > r1)"
   ]
  },
  {
   "cell_type": "code",
   "execution_count": 115,
   "metadata": {},
   "outputs": [
    {
     "name": "stdout",
     "output_type": "stream",
     "text": [
      "20\n"
     ]
    },
    {
     "ename": "ValueError",
     "evalue": "Height must be positive",
     "output_type": "error",
     "traceback": [
      "\u001b[0;31m---------------------------------------------------------------------------\u001b[0m",
      "\u001b[0;31mValueError\u001b[0m                                Traceback (most recent call last)",
      "\u001b[1;32m/Users/jrehanek/workspace/2_personal/python_deepdive/part_1/2_section.ipynb Cell 19\u001b[0m in \u001b[0;36m<cell line: 49>\u001b[0;34m()\u001b[0m\n\u001b[1;32m     <a href='vscode-notebook-cell:/Users/jrehanek/workspace/2_personal/python_deepdive/part_1/2_section.ipynb#X25sZmlsZQ%3D%3D?line=46'>47</a>\u001b[0m r1 \u001b[39m=\u001b[39m Rectangle(\u001b[39m10\u001b[39m, \u001b[39m20\u001b[39m)\n\u001b[1;32m     <a href='vscode-notebook-cell:/Users/jrehanek/workspace/2_personal/python_deepdive/part_1/2_section.ipynb#X25sZmlsZQ%3D%3D?line=47'>48</a>\u001b[0m \u001b[39mprint\u001b[39m(r1\u001b[39m.\u001b[39mget_height())\n\u001b[0;32m---> <a href='vscode-notebook-cell:/Users/jrehanek/workspace/2_personal/python_deepdive/part_1/2_section.ipynb#X25sZmlsZQ%3D%3D?line=48'>49</a>\u001b[0m r1\u001b[39m.\u001b[39;49mset_height(\u001b[39m-\u001b[39;49m\u001b[39m20\u001b[39;49m)\n",
      "\u001b[1;32m/Users/jrehanek/workspace/2_personal/python_deepdive/part_1/2_section.ipynb Cell 19\u001b[0m in \u001b[0;36mRectangle.set_height\u001b[0;34m(self, height)\u001b[0m\n\u001b[1;32m     <a href='vscode-notebook-cell:/Users/jrehanek/workspace/2_personal/python_deepdive/part_1/2_section.ipynb#X25sZmlsZQ%3D%3D?line=21'>22</a>\u001b[0m \u001b[39mdef\u001b[39;00m \u001b[39mset_height\u001b[39m(\u001b[39mself\u001b[39m, height):\n\u001b[1;32m     <a href='vscode-notebook-cell:/Users/jrehanek/workspace/2_personal/python_deepdive/part_1/2_section.ipynb#X25sZmlsZQ%3D%3D?line=22'>23</a>\u001b[0m     \u001b[39mif\u001b[39;00m height \u001b[39m<\u001b[39m\u001b[39m=\u001b[39m \u001b[39m0\u001b[39m:\n\u001b[0;32m---> <a href='vscode-notebook-cell:/Users/jrehanek/workspace/2_personal/python_deepdive/part_1/2_section.ipynb#X25sZmlsZQ%3D%3D?line=23'>24</a>\u001b[0m         \u001b[39mraise\u001b[39;00m \u001b[39mValueError\u001b[39;00m(\u001b[39m'\u001b[39m\u001b[39mHeight must be positive\u001b[39m\u001b[39m'\u001b[39m) \n\u001b[1;32m     <a href='vscode-notebook-cell:/Users/jrehanek/workspace/2_personal/python_deepdive/part_1/2_section.ipynb#X25sZmlsZQ%3D%3D?line=24'>25</a>\u001b[0m     \u001b[39melse\u001b[39;00m:\n\u001b[1;32m     <a href='vscode-notebook-cell:/Users/jrehanek/workspace/2_personal/python_deepdive/part_1/2_section.ipynb#X25sZmlsZQ%3D%3D?line=25'>26</a>\u001b[0m         \u001b[39mself\u001b[39m\u001b[39m.\u001b[39m_height \u001b[39m=\u001b[39m height\n",
      "\u001b[0;31mValueError\u001b[0m: Height must be positive"
     ]
    }
   ],
   "source": [
    "#Classes with get and set methods (Java-style)\n",
    "\n",
    "class Rectangle:\n",
    "    def __init__(self, width, height):\n",
    "        # defined as _private\n",
    "        # _private is convention only\n",
    "        self._width = width\n",
    "        self._height = height\n",
    "\n",
    "    def get_width(self):\n",
    "        return self._width\n",
    "\n",
    "    def set_width(self, width):\n",
    "        if width <= 0:\n",
    "            raise ValueError('Width must be positive') \n",
    "        else:\n",
    "            self._width = width\n",
    "\n",
    "    def get_height(self):\n",
    "        return self._height\n",
    "        \n",
    "    def set_height(self, height):\n",
    "        if height <= 0:\n",
    "            raise ValueError('Height must be positive') \n",
    "        else:\n",
    "            self._height = height\n",
    "\n",
    "    def __str__(self):\n",
    "        return 'Rectangle: height {0}, width: {1}'.format(self._height, self._width)\n",
    "\n",
    "    def __repr__(self):\n",
    "        return 'Rectangle({0}, {1})'.format(self._width, self._height)\n",
    "\n",
    "    def __eq__(self, other):\n",
    "        if isinstance(other, Rectangle): #Assures that the comparison only applies to classes and subclasses of Rectangle\n",
    "            return (self._height, self._width) == (other._height, other._width)\n",
    "        else:\n",
    "            return False\n",
    "\n",
    "    def __lt__(self, other):\n",
    "        if isinstance(other, Rectangle):\n",
    "            return self.area() < other.area()\n",
    "        else:\n",
    "            return NotImplemented\n",
    "\n",
    "\n",
    "r1 = Rectangle(10, 20)\n",
    "print(r1.get_height())\n",
    "r1.set_height(-20) # raises ValueError as defined"
   ]
  },
  {
   "cell_type": "code",
   "execution_count": 120,
   "metadata": {},
   "outputs": [],
   "source": [
    "#Classes with get and set methods (Pythonic)\n",
    "\n",
    "class Rectangle:\n",
    "    def __init__(self, width, height):\n",
    "        self.width = width\n",
    "        self.height = height\n",
    "\n",
    "    @property\n",
    "    def width(self):\n",
    "        return self._width\n",
    "    @width.setter\n",
    "    def width(self, width):\n",
    "        if width <= 0:\n",
    "            raise ValueError('Width must be greater than 0.')\n",
    "        else:\n",
    "            self._width = width\n",
    "\n",
    "    @property\n",
    "    def height(self):\n",
    "        return self._height\n",
    "    @height.setter\n",
    "    def height(self, height):\n",
    "        if height <= 0:\n",
    "            raise ValueError('Height must be greater than 0.')\n",
    "        else:\n",
    "            self._height = height\n",
    "\n",
    "\n",
    "    def __str__(self):\n",
    "        return 'Rectangle: height {0}, width: {1}'.format(self.height, self.width)\n",
    "\n",
    "    def __repr__(self):\n",
    "        return 'Rectangle({0}, {1})'.format(self.width, self.height)\n",
    "\n",
    "\n",
    "r1 = Rectangle(100, 100)\n",
    "\n",
    "r1.width = 100"
   ]
  }
 ],
 "metadata": {
  "interpreter": {
   "hash": "aee8b7b246df8f9039afb4144a1f6fd8d2ca17a180786b69acc140d282b71a49"
  },
  "kernelspec": {
   "display_name": "Python 3.10.2 64-bit",
   "language": "python",
   "name": "python3"
  },
  "language_info": {
   "codemirror_mode": {
    "name": "ipython",
    "version": 3
   },
   "file_extension": ".py",
   "mimetype": "text/x-python",
   "name": "python",
   "nbconvert_exporter": "python",
   "pygments_lexer": "ipython3",
   "version": "3.10.2"
  },
  "orig_nbformat": 4
 },
 "nbformat": 4,
 "nbformat_minor": 2
}
