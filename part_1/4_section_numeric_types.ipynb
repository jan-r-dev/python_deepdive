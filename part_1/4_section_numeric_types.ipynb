{
 "cells": [
  {
   "cell_type": "code",
   "execution_count": 9,
   "metadata": {},
   "outputs": [
    {
     "name": "stdout",
     "output_type": "stream",
     "text": [
      "0.013127541868016124\n",
      "3.411443624878302\n"
     ]
    }
   ],
   "source": [
    "#Integer objects in Python use a variable number of bits.\n",
    "#Their size grows seamlessly, limited by memory and computational speed.\n",
    "\n",
    "import time\n",
    "\n",
    "def compute(n):\n",
    "    for v in range(10000):\n",
    "        n ** 2\n",
    "        pass\n",
    "\n",
    "start = time.perf_counter()\n",
    "compute(2**1000)\n",
    "end = time.perf_counter()\n",
    "\n",
    "print (end - start)\n",
    "\n",
    "start = time.perf_counter()\n",
    "compute(2**100000)\n",
    "end = time.perf_counter()\n",
    "\n",
    "print (end - start)\n",
    "\n",
    "#Example results:\n",
    "#   0.013127541868016124\n",
    "#   3.411443624878302"
   ]
  },
  {
   "cell_type": "code",
   "execution_count": null,
   "metadata": {},
   "outputs": [],
   "source": [
    "#div and modulo\n",
    "\n",
    "#They are defined to satisfy the following equation:\n",
    "#a = b * (a // b) + a % b"
   ]
  }
 ],
 "metadata": {
  "kernelspec": {
   "display_name": "Python 3.10.2 64-bit",
   "language": "python",
   "name": "python3"
  },
  "language_info": {
   "codemirror_mode": {
    "name": "ipython",
    "version": 3
   },
   "file_extension": ".py",
   "mimetype": "text/x-python",
   "name": "python",
   "nbconvert_exporter": "python",
   "pygments_lexer": "ipython3",
   "version": "3.10.2"
  },
  "orig_nbformat": 4,
  "vscode": {
   "interpreter": {
    "hash": "aee8b7b246df8f9039afb4144a1f6fd8d2ca17a180786b69acc140d282b71a49"
   }
  }
 },
 "nbformat": 4,
 "nbformat_minor": 2
}
