{
 "cells": [
  {
   "cell_type": "code",
   "execution_count": 9,
   "metadata": {},
   "outputs": [
    {
     "name": "stdout",
     "output_type": "stream",
     "text": [
      "0.013127541868016124\n",
      "3.411443624878302\n"
     ]
    }
   ],
   "source": [
    "#Integer objects in Python use a variable number of bits.\n",
    "#Their size grows seamlessly, limited by memory and computational speed.\n",
    "\n",
    "import time\n",
    "\n",
    "def compute(n):\n",
    "    for v in range(10000):\n",
    "        n ** 2\n",
    "        pass\n",
    "\n",
    "start = time.perf_counter()\n",
    "compute(2**1000)\n",
    "end = time.perf_counter()\n",
    "\n",
    "print (end - start)\n",
    "\n",
    "start = time.perf_counter()\n",
    "compute(2**100000)\n",
    "end = time.perf_counter()\n",
    "\n",
    "print (end - start)\n",
    "\n",
    "#Example results:\n",
    "#   0.013127541868016124\n",
    "#   3.411443624878302"
   ]
  },
  {
   "cell_type": "code",
   "execution_count": 12,
   "metadata": {},
   "outputs": [
    {
     "name": "stdout",
     "output_type": "stream",
     "text": [
      "<class 'float'>\n",
      "2.0\n"
     ]
    },
    {
     "data": {
      "text/plain": [
       "-3"
      ]
     },
     "execution_count": 12,
     "metadata": {},
     "output_type": "execute_result"
    }
   ],
   "source": [
    "#div and modulo\n",
    "\n",
    "#They are defined to satisfy the following equation:\n",
    "#a = b * (a // b) + a % b\n",
    "\n",
    "\n",
    "#Division always returns a float.\n",
    "print(type(10/5))\n",
    "print(10/5)\n",
    "\n",
    "import math\n",
    "\n",
    "math.floor(-2.2)"
   ]
  },
  {
   "cell_type": "code",
   "execution_count": 32,
   "metadata": {},
   "outputs": [
    {
     "name": "stdout",
     "output_type": "stream",
     "text": [
      "32\n",
      "10\n"
     ]
    }
   ],
   "source": [
    "print(int('20', base=16))\n",
    "\n",
    "#It is also possible to assign as a literal if using the correct base prefix (0x for hex, 0b for binary, etc)\n",
    "a = 0xA\n",
    "\n",
    "print(a)"
   ]
  },
  {
   "cell_type": "code",
   "execution_count": 59,
   "metadata": {},
   "outputs": [
    {
     "name": "stdout",
     "output_type": "stream",
     "text": [
      "[1, 9, 11, 2, 6, 11, 2, 7]\n",
      "0x19B26B27\n",
      "431123239\n",
      "431123239 431123239 True\n"
     ]
    }
   ],
   "source": [
    "#Conversion of a dec int into the specified base\n",
    "\n",
    "orig_n = 431123239\n",
    "n = 431123239\n",
    "b = 16\n",
    "\n",
    "def base16_encoder(d: list[int]):\n",
    "    digits = d.copy()\n",
    "\n",
    "    #Primitive encoding map\n",
    "    map = '0123456789ABCDEF'\n",
    "\n",
    "    #Constructing the encoded number representation\n",
    "    for i, v in enumerate(digits):\n",
    "        digits[i] = map[v]\n",
    "\n",
    "    digits.insert(0, '0x')\n",
    "    return ''.join(digits)\n",
    "            \n",
    "\n",
    "\n",
    "digits = []\n",
    "while n > 0:\n",
    "    m = n % b\n",
    "    n = n // b\n",
    "    digits.insert(0, m)\n",
    "\n",
    "base16_string = base16_encoder(digits)\n",
    "\n",
    "print(digits)\n",
    "print(base16_string)\n",
    "print(int(base16_string, base=16))\n",
    "print(orig_n, int(base16_string, base=16), orig_n == int(base16_string, base=16))\n",
    "\n"
   ]
  },
  {
   "cell_type": "code",
   "execution_count": 60,
   "metadata": {},
   "outputs": [
    {
     "name": "stdout",
     "output_type": "stream",
     "text": [
      "10\n"
     ]
    }
   ],
   "source": [
    "#It is possible to assign literals in other bases to create an int value.\n",
    "b = 0b1010\n",
    "\n",
    "print(b)"
   ]
  },
  {
   "cell_type": "code",
   "execution_count": 100,
   "metadata": {},
   "outputs": [
    {
     "name": "stdout",
     "output_type": "stream",
     "text": [
      "3602879701896397/36028797018963968\n"
     ]
    },
    {
     "data": {
      "text/plain": [
       "True"
      ]
     },
     "execution_count": 100,
     "metadata": {},
     "output_type": "execute_result"
    }
   ],
   "source": [
    "#Notes on rational numbers\n",
    "from math import pi\n",
    "#fractions can be used to represent rational numbers in Python\n",
    "from fractions import Fraction\n",
    "\n",
    "#0.3 cannot be represented exactly, which is revealed in the Fraction and the format output\n",
    "b = 0.3\n",
    "\n",
    "print(Fraction(b))\n",
    "format(b, '0.50f')\n",
    "\n",
    "0.3 == b"
   ]
  },
  {
   "cell_type": "code",
   "execution_count": 116,
   "metadata": {},
   "outputs": [
    {
     "name": "stdout",
     "output_type": "stream",
     "text": [
      "0.1000000000000000055511151231257827021181583404541015625\n",
      "0.1250000000000000000000000000000000000000000000000000000\n",
      "False\n",
      "0.3000000000000000444089209850062616169452667236328125000\n",
      "0.2999999999999999888977697537484345957636833190917968750\n"
     ]
    },
    {
     "data": {
      "text/plain": [
       "True"
      ]
     },
     "execution_count": 116,
     "metadata": {},
     "output_type": "execute_result"
    }
   ],
   "source": [
    "#Notes on floats and their internal representation\n",
    "\n",
    "#Floats use a fixed number of bytes (unlike integers in Python) -> 8 bytes / 64 bits + object overhead -> 24 bytes\n",
    "\n",
    "import math\n",
    "\n",
    "#Show 55 digits after decimal point\n",
    "print(format(0.1, '0.55f'))\n",
    "\n",
    "#0.123 can be represented exactly -> 1/8 -> 1/2**3\n",
    "print(format(0.125, '0.55f'))\n",
    "\n",
    "a = 0.1 + 0.1 + 0.1\n",
    "b = 0.3 \n",
    "\n",
    "#Equality will return False\n",
    "print(a == b)\n",
    "\n",
    "#Reason:\n",
    "print(format(a, '0.55f'))\n",
    "print(format(b, '0.55f'))\n",
    "\n",
    "#These numbers have inexact base2 representations, meaning that they will alway be an approximation in a binary-based computer.\n",
    "\n",
    "math.isclose(a, b)"
   ]
  },
  {
   "cell_type": "code",
   "execution_count": 121,
   "metadata": {},
   "outputs": [
    {
     "name": "stdout",
     "output_type": "stream",
     "text": [
      "False\n",
      "True\n",
      "False\n",
      "True\n"
     ]
    }
   ],
   "source": [
    "#Testing float comparisons\n",
    "\n",
    "import math\n",
    "\n",
    "\n",
    "x = 0.3\n",
    "y = 0.1 + 0.1 + 0.1\n",
    "\n",
    "print(x == y)\n",
    "\n",
    "#For the values to be considered close, the difference between them must be smaller than at least one of the tolerances.\n",
    "print(math.isclose(x, y))\n",
    "\n",
    "#iclose without a specified absolute tolerance has issues with numbers very close or equal to zero.\n",
    "print(math.isclose(0.000000000001, 0))\n",
    "\n",
    "#rel_tol becomes more relevant as the numbers grow larger. abs_tol is to account for the numbers very close to 0\n",
    "print(math.isclose(0.000000000001, 0, abs_tol=0.0001, rel_tol=0.01))"
   ]
  },
  {
   "cell_type": "code",
   "execution_count": 126,
   "metadata": {},
   "outputs": [
    {
     "name": "stdout",
     "output_type": "stream",
     "text": [
      "Trunc: 10 | Floor: 10 | Ceil: 11\n",
      "Trunc neg: -10 | Floor neg: -11 | Ceil neg: -10\n"
     ]
    }
   ],
   "source": [
    "#Float coercion into integers\n",
    "\n",
    "from math import trunc, ceil, floor\n",
    "\n",
    "x = 10.4\n",
    "y = -10.4\n",
    "\n",
    "\n",
    "print('Trunc: {0} | Floor: {1} | Ceil: {2}'.format(trunc(x), floor(x), ceil(x)))\n",
    "print('Trunc neg: {0} | Floor neg: {1} | Ceil neg: {2}'.format(trunc(y), floor(y), ceil(y)))"
   ]
  },
  {
   "cell_type": "code",
   "execution_count": 145,
   "metadata": {},
   "outputs": [
    {
     "name": "stdout",
     "output_type": "stream",
     "text": [
      "2\n",
      "2.0\n",
      "888.9 889.0 890.0 900.0 1000.0 0.0 10000.0\n",
      "1.2\n",
      "1.4\n",
      "2 2\n",
      "2 3\n",
      "-2 -2\n",
      "-2 -3\n"
     ]
    }
   ],
   "source": [
    "#Rounding floats\n",
    "\n",
    "#round() is built-in = no imports needed\n",
    "#uses Banker's rounding by default\n",
    "\n",
    "#Returns an int type if the second parameter is omitted\n",
    "print(round(1.9))\n",
    "\n",
    "#If the second parameter is provided (even if 0) -> a float is returned\n",
    "print(round(1.9, 0))\n",
    "\n",
    "print(\n",
    "    #Positive numbers behind the decimal point\n",
    "    round(888.88, 1),round(888.88, 0),\n",
    "    #Negative numbers after the decimal point\n",
    "    round(888.88, -1),round(888.88, -2),round(888.88, -3),\n",
    "    #Note which number is closer to 10000 to explain the result\n",
    "    round(888.88, -4), round(8888.88, -4)\n",
    ")\n",
    "\n",
    "print('=' * 50)\n",
    "\n",
    "##Ties in rounding\n",
    "\n",
    "#Note the difference. Banker's rounding solves ties by rounding to the nearest even number (least significant digit).\n",
    "print(round(1.25, 1))\n",
    "print(round(1.35, 1))\n",
    "\n",
    "#_round implements rounding always away from zero\n",
    "def _round(x):\n",
    "    from math import copysign, fabs\n",
    "    return int(x + 0.5 * copysign(1, x))\n",
    "\n",
    "#Note the difference between default banker's rounding and our _round()\n",
    "print(round(1.5), _round(1.5))\n",
    "print(round(2.5), _round(2.5))\n",
    "print(round(-1.5), _round(-1.5))\n",
    "print(round(-2.5), _round(-2.5))\n",
    "\n"
   ]
  }
 ],
 "metadata": {
  "kernelspec": {
   "display_name": "Python 3.10.2 64-bit",
   "language": "python",
   "name": "python3"
  },
  "language_info": {
   "codemirror_mode": {
    "name": "ipython",
    "version": 3
   },
   "file_extension": ".py",
   "mimetype": "text/x-python",
   "name": "python",
   "nbconvert_exporter": "python",
   "pygments_lexer": "ipython3",
   "version": "3.10.2"
  },
  "orig_nbformat": 4,
  "vscode": {
   "interpreter": {
    "hash": "aee8b7b246df8f9039afb4144a1f6fd8d2ca17a180786b69acc140d282b71a49"
   }
  }
 },
 "nbformat": 4,
 "nbformat_minor": 2
}
