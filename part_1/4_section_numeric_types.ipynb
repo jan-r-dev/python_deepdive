{
 "cells": [
  {
   "cell_type": "code",
   "execution_count": 9,
   "metadata": {},
   "outputs": [
    {
     "name": "stdout",
     "output_type": "stream",
     "text": [
      "0.013127541868016124\n",
      "3.411443624878302\n"
     ]
    }
   ],
   "source": [
    "#Integer objects in Python use a variable number of bits.\n",
    "#Their size grows seamlessly, limited by memory and computational speed.\n",
    "\n",
    "import time\n",
    "\n",
    "def compute(n):\n",
    "    for v in range(10000):\n",
    "        n ** 2\n",
    "        pass\n",
    "\n",
    "start = time.perf_counter()\n",
    "compute(2**1000)\n",
    "end = time.perf_counter()\n",
    "\n",
    "print (end - start)\n",
    "\n",
    "start = time.perf_counter()\n",
    "compute(2**100000)\n",
    "end = time.perf_counter()\n",
    "\n",
    "print (end - start)\n",
    "\n",
    "#Example results:\n",
    "#   0.013127541868016124\n",
    "#   3.411443624878302"
   ]
  },
  {
   "cell_type": "code",
   "execution_count": 12,
   "metadata": {},
   "outputs": [
    {
     "name": "stdout",
     "output_type": "stream",
     "text": [
      "<class 'float'>\n",
      "2.0\n"
     ]
    },
    {
     "data": {
      "text/plain": [
       "-3"
      ]
     },
     "execution_count": 12,
     "metadata": {},
     "output_type": "execute_result"
    }
   ],
   "source": [
    "#div and modulo\n",
    "\n",
    "#They are defined to satisfy the following equation:\n",
    "#a = b * (a // b) + a % b\n",
    "\n",
    "\n",
    "#Division always returns a float.\n",
    "print(type(10/5))\n",
    "print(10/5)\n",
    "\n",
    "import math\n",
    "\n",
    "math.floor(-2.2)"
   ]
  },
  {
   "cell_type": "code",
   "execution_count": 32,
   "metadata": {},
   "outputs": [
    {
     "name": "stdout",
     "output_type": "stream",
     "text": [
      "32\n",
      "10\n"
     ]
    }
   ],
   "source": [
    "print(int('20', base=16))\n",
    "\n",
    "#It is also possible to assign as a literal if using the correct base prefix (0x for hex, 0b for binary, etc)\n",
    "a = 0xA\n",
    "\n",
    "print(a)"
   ]
  },
  {
   "cell_type": "code",
   "execution_count": 59,
   "metadata": {},
   "outputs": [
    {
     "name": "stdout",
     "output_type": "stream",
     "text": [
      "[1, 9, 11, 2, 6, 11, 2, 7]\n",
      "0x19B26B27\n",
      "431123239\n",
      "431123239 431123239 True\n"
     ]
    }
   ],
   "source": [
    "#Conversion of a dec int into the specified base\n",
    "\n",
    "orig_n = 431123239\n",
    "n = 431123239\n",
    "b = 16\n",
    "\n",
    "def base16_encoder(d: list[int]):\n",
    "    digits = d.copy()\n",
    "\n",
    "    #Primitive encoding map\n",
    "    map = '0123456789ABCDEF'\n",
    "\n",
    "    #Constructing the encoded number representation\n",
    "    for i, v in enumerate(digits):\n",
    "        digits[i] = map[v]\n",
    "\n",
    "    digits.insert(0, '0x')\n",
    "    return ''.join(digits)\n",
    "            \n",
    "\n",
    "\n",
    "digits = []\n",
    "while n > 0:\n",
    "    m = n % b\n",
    "    n = n // b\n",
    "    digits.insert(0, m)\n",
    "\n",
    "base16_string = base16_encoder(digits)\n",
    "\n",
    "print(digits)\n",
    "print(base16_string)\n",
    "print(int(base16_string, base=16))\n",
    "print(orig_n, int(base16_string, base=16), orig_n == int(base16_string, base=16))\n",
    "\n"
   ]
  },
  {
   "cell_type": "code",
   "execution_count": 60,
   "metadata": {},
   "outputs": [
    {
     "name": "stdout",
     "output_type": "stream",
     "text": [
      "10\n"
     ]
    }
   ],
   "source": [
    "#It is possible to assign literals in other bases to create an int value.\n",
    "b = 0b1010\n",
    "\n",
    "print(b)"
   ]
  },
  {
   "cell_type": "code",
   "execution_count": 100,
   "metadata": {},
   "outputs": [
    {
     "name": "stdout",
     "output_type": "stream",
     "text": [
      "3602879701896397/36028797018963968\n"
     ]
    },
    {
     "data": {
      "text/plain": [
       "True"
      ]
     },
     "execution_count": 100,
     "metadata": {},
     "output_type": "execute_result"
    }
   ],
   "source": [
    "#Notes on rational numbers\n",
    "from math import pi\n",
    "#fractions can be used to represent rational numbers in Python\n",
    "from fractions import Fraction\n",
    "\n",
    "#0.3 cannot be represented exactly, which is revealed in the Fraction and the format output\n",
    "b = 0.3\n",
    "\n",
    "print(Fraction(b))\n",
    "format(b, '0.50f')\n",
    "\n",
    "0.3 == b"
   ]
  },
  {
   "cell_type": "code",
   "execution_count": 116,
   "metadata": {},
   "outputs": [
    {
     "name": "stdout",
     "output_type": "stream",
     "text": [
      "0.1000000000000000055511151231257827021181583404541015625\n",
      "0.1250000000000000000000000000000000000000000000000000000\n",
      "False\n",
      "0.3000000000000000444089209850062616169452667236328125000\n",
      "0.2999999999999999888977697537484345957636833190917968750\n"
     ]
    },
    {
     "data": {
      "text/plain": [
       "True"
      ]
     },
     "execution_count": 116,
     "metadata": {},
     "output_type": "execute_result"
    }
   ],
   "source": [
    "#Notes on floats and their internal representation\n",
    "\n",
    "#Floats use a fixed number of bytes (unlike integers in Python) -> 8 bytes / 64 bits + object overhead -> 24 bytes\n",
    "\n",
    "import math\n",
    "\n",
    "#Show 55 digits after decimal point\n",
    "print(format(0.1, '0.55f'))\n",
    "\n",
    "#0.123 can be represented exactly -> 1/8 -> 1/2**3\n",
    "print(format(0.125, '0.55f'))\n",
    "\n",
    "a = 0.1 + 0.1 + 0.1\n",
    "b = 0.3 \n",
    "\n",
    "#Equality will return False\n",
    "print(a == b)\n",
    "\n",
    "#Reason:\n",
    "print(format(a, '0.55f'))\n",
    "print(format(b, '0.55f'))\n",
    "\n",
    "#These numbers have inexact base2 representations, meaning that they will alway be an approximation in a binary-based computer.\n",
    "\n",
    "math.isclose(a, b)"
   ]
  },
  {
   "cell_type": "code",
   "execution_count": 121,
   "metadata": {},
   "outputs": [
    {
     "name": "stdout",
     "output_type": "stream",
     "text": [
      "False\n",
      "True\n",
      "False\n",
      "True\n"
     ]
    }
   ],
   "source": [
    "#Testing float comparisons\n",
    "\n",
    "import math\n",
    "\n",
    "\n",
    "x = 0.3\n",
    "y = 0.1 + 0.1 + 0.1\n",
    "\n",
    "print(x == y)\n",
    "\n",
    "#For the values to be considered close, the difference between them must be smaller than at least one of the tolerances.\n",
    "print(math.isclose(x, y))\n",
    "\n",
    "#iclose without a specified absolute tolerance has issues with numbers very close or equal to zero.\n",
    "print(math.isclose(0.000000000001, 0))\n",
    "\n",
    "#rel_tol becomes more relevant as the numbers grow larger. abs_tol is to account for the numbers very close to 0\n",
    "print(math.isclose(0.000000000001, 0, abs_tol=0.0001, rel_tol=0.01))"
   ]
  },
  {
   "cell_type": "code",
   "execution_count": 126,
   "metadata": {},
   "outputs": [
    {
     "name": "stdout",
     "output_type": "stream",
     "text": [
      "Trunc: 10 | Floor: 10 | Ceil: 11\n",
      "Trunc neg: -10 | Floor neg: -11 | Ceil neg: -10\n"
     ]
    }
   ],
   "source": [
    "#Float coercion into integers\n",
    "\n",
    "from math import trunc, ceil, floor\n",
    "\n",
    "x = 10.4\n",
    "y = -10.4\n",
    "\n",
    "\n",
    "print('Trunc: {0} | Floor: {1} | Ceil: {2}'.format(trunc(x), floor(x), ceil(x)))\n",
    "print('Trunc neg: {0} | Floor neg: {1} | Ceil neg: {2}'.format(trunc(y), floor(y), ceil(y)))"
   ]
  },
  {
   "cell_type": "code",
   "execution_count": 145,
   "metadata": {},
   "outputs": [
    {
     "name": "stdout",
     "output_type": "stream",
     "text": [
      "2\n",
      "2.0\n",
      "888.9 889.0 890.0 900.0 1000.0 0.0 10000.0\n",
      "1.2\n",
      "1.4\n",
      "2 2\n",
      "2 3\n",
      "-2 -2\n",
      "-2 -3\n"
     ]
    }
   ],
   "source": [
    "#Rounding floats\n",
    "\n",
    "#round() is built-in = no imports needed\n",
    "#uses Banker's rounding by default\n",
    "\n",
    "#Returns an int type if the second parameter is omitted\n",
    "print(round(1.9))\n",
    "\n",
    "#If the second parameter is provided (even if 0) -> a float is returned\n",
    "print(round(1.9, 0))\n",
    "\n",
    "print(\n",
    "    #Positive numbers behind the decimal point\n",
    "    round(888.88, 1),round(888.88, 0),\n",
    "    #Negative numbers after the decimal point\n",
    "    round(888.88, -1),round(888.88, -2),round(888.88, -3),\n",
    "    #Note which number is closer to 10000 to explain the result\n",
    "    round(888.88, -4), round(8888.88, -4)\n",
    ")\n",
    "\n",
    "print('=' * 50)\n",
    "\n",
    "##Ties in rounding\n",
    "\n",
    "#Note the difference. Banker's rounding solves ties by rounding to the nearest even number (least significant digit).\n",
    "print(round(1.25, 1))\n",
    "print(round(1.35, 1))\n",
    "\n",
    "#_round implements rounding always away from zero\n",
    "def _round(x):\n",
    "    from math import copysign, fabs\n",
    "    return int(x + 0.5 * copysign(1, x))\n",
    "\n",
    "#Note the difference between default banker's rounding and our _round()\n",
    "print(round(1.5), _round(1.5))\n",
    "print(round(2.5), _round(2.5))\n",
    "print(round(-1.5), _round(-1.5))\n",
    "print(round(-2.5), _round(-2.5))\n",
    "\n"
   ]
  },
  {
   "cell_type": "code",
   "execution_count": 172,
   "metadata": {},
   "outputs": [
    {
     "name": "stdout",
     "output_type": "stream",
     "text": [
      "Context(prec=28, rounding=ROUND_HALF_EVEN, Emin=-999999, Emax=999999, capitals=1, clamp=0, flags=[], traps=[InvalidOperation, DivisionByZero, Overflow])\n",
      "Context(prec=30, rounding=ROUND_HALF_EVEN, Emin=-999999, Emax=999999, capitals=1, clamp=0, flags=[], traps=[InvalidOperation, DivisionByZero, Overflow])\n",
      "<class 'decimal.Context'>\n",
      "Context(prec=28, rounding=ROUND_HALF_EVEN, Emin=-999999, Emax=999999, capitals=1, clamp=0, flags=[], traps=[InvalidOperation, DivisionByZero, Overflow])\n",
      "True\n",
      "1.3\n",
      "1.4\n",
      "1.2\n",
      "1.4\n"
     ]
    }
   ],
   "source": [
    "#Decimals - intro\n",
    "\n",
    "import decimal\n",
    "from decimal import Decimal, getcontext\n",
    "\n",
    "#The default context is already found at module level. It can be modified.\n",
    "#decimal.getcontext() returns the current context. In this case, it is the default one.\n",
    "g_ctx = decimal.getcontext()\n",
    "\n",
    "print(g_ctx)\n",
    "g_ctx.prec = 30\n",
    "g_ctx.rounding = decimal.ROUND_HALF_EVEN\n",
    "print(g_ctx)\n",
    "\n",
    "#Context precision affects mathematical operations. It does not affect the constructor.\n",
    "g_ctx.prec = 28\n",
    "\n",
    "x = Decimal('1.25')\n",
    "y = Decimal('1.35')\n",
    "\n",
    "#A local context can be created.\n",
    "#decimal.localcontext() returns a context manager, which needs to be treated differently than a context.\n",
    "with decimal.localcontext() as ctx:\n",
    "    print(type(ctx))\n",
    "    print(ctx)\n",
    "\n",
    "    ctx.prec = 6\n",
    "    ctx.rounding = decimal.ROUND_HALF_UP\n",
    "    #The current context is the local context = ctx\n",
    "    print(decimal.getcontext() is ctx)\n",
    "\n",
    "    #Different result in this local context with ROUND_HALF_UP\n",
    "    print(round(x, 1))\n",
    "    print(round(y, 1))\n",
    "\n",
    "#Different result in this global contaxt with ROUND_HALF_EVEN\n",
    "print(round(x, 1))\n",
    "print(round(y, 1))"
   ]
  },
  {
   "cell_type": "code",
   "execution_count": 195,
   "metadata": {},
   "outputs": [
    {
     "name": "stdout",
     "output_type": "stream",
     "text": [
      "-12.34152\n",
      "12.34152\n",
      "1.100000000000000088817841970012523233890533447265625\n",
      "1.2324124123123 1.2312312412324123123\n",
      "2.5\n"
     ]
    }
   ],
   "source": [
    "#Decimals - constructors and context\n",
    "\n",
    "import decimal\n",
    "from decimal import Decimal\n",
    "\n",
    "#Integers\n",
    "Decimal(10)\n",
    "Decimal(-10)\n",
    "\n",
    "#Strings\n",
    "Decimal('10.23')\n",
    "Decimal('-12.232324')\n",
    "\n",
    "#Tuples\n",
    "print(Decimal((1, (1,2,3,4,1,5,2), -5)))\n",
    "print(Decimal((0, (1,2,3,4,1,5,2), -5)))\n",
    "\n",
    "#Floats\n",
    "#Don't use them for the Decimal constructor - imprecision\n",
    "print(Decimal(1.1))\n",
    "\n",
    "#As noted above, the precision does not affect the constructor.\n",
    "decimal.getcontext().prec = 2\n",
    "num1 = Decimal('1.2324124123123')\n",
    "num2 = Decimal('1.2312312412324123123')\n",
    "print(num1, num2)\n",
    "\n",
    "#It does however affect the arithmetic operations, leading to rounding according to the rules in the context.\n",
    "print(num1 + num2)\n",
    "\n",
    "decimal.getcontext().prec = 18"
   ]
  },
  {
   "cell_type": "code",
   "execution_count": 216,
   "metadata": {},
   "outputs": [
    {
     "name": "stdout",
     "output_type": "stream",
     "text": [
      "0.1 0.100000000000000006\n",
      "-4.60517018598809137 -4.605170185988090914\n",
      "False\n",
      "False\n",
      "0.01\n",
      "0.010000000000000002\n"
     ]
    }
   ],
   "source": [
    "#Decimals - mathematical operations\n",
    "\n",
    "import decimal\n",
    "from decimal import Decimal\n",
    "import math\n",
    "\n",
    "#Decimal class has a lot of math functinos such as sqrt built in. -> check help(Decimal)\n",
    "\n",
    "x = Decimal('0.01')\n",
    "\n",
    "dec_x_sqrt = x.sqrt()\n",
    "dec_x_log  = x.ln()\n",
    "\n",
    "#Operations in the math module cast the decimals as floats. Not recommended, as floats are imprecise.\n",
    "#Note: format() is there to match the number of decimals to the precision of 18.\n",
    "float_x_sqrt = format(math.sqrt(x), '.18f')\n",
    "float_x_log = format(math.log(x), '.18f')\n",
    "\n",
    "print(dec_x_sqrt, float_x_sqrt)\n",
    "print(dec_x_log, float_x_log)\n",
    "print(dec_x_sqrt == float_x_sqrt)\n",
    "print(dec_x_log == float_x_log)\n",
    "\n",
    "#Precise decimal vs imprecise float\n",
    "print(dec_x_sqrt * dec_x_sqrt)\n",
    "print(math.sqrt(x) * math.sqrt(x))\n",
    "\n"
   ]
  },
  {
   "cell_type": "code",
   "execution_count": 5,
   "metadata": {},
   "outputs": [
    {
     "name": "stdout",
     "output_type": "stream",
     "text": [
      "(1+2j) (1+1j)\n"
     ]
    },
    {
     "data": {
      "text/plain": [
       "(1.272019649514069+0.7861513777574233j)"
      ]
     },
     "execution_count": 5,
     "metadata": {},
     "output_type": "execute_result"
    }
   ],
   "source": [
    "#Complex numbers\n",
    "\n",
    "\n",
    "a = complex(1, 2)\n",
    "#Literal constructor\n",
    "b = 1 + 1j\n",
    "\n",
    "print(a, b)\n",
    "\n",
    "a.real\n",
    "a.imag\n",
    "a.conjugate()\n",
    "\n",
    "#Parts of complex numbers are of the float type, subject to the same limitations as floats.\n",
    "\n",
    "#cmath is defined for complex numbers (cannot use the math module for complex numbers)\n",
    "import cmath\n",
    "\n",
    "cmath.sqrt(a)"
   ]
  },
  {
   "cell_type": "code",
   "execution_count": 9,
   "metadata": {},
   "outputs": [
    {
     "name": "stdout",
     "output_type": "stream",
     "text": [
      "(1 == 2) == 0 = True\n",
      "True False\n"
     ]
    }
   ],
   "source": [
    "#Booleans - intro\n",
    "\n",
    "#bool is a subclass of int in Python\n",
    "issubclass(bool, int)\n",
    "\n",
    "#True and False retain the same memory address for the runtime of the application; they are singleton objects.\n",
    "# -> is can be used instead of ==\n",
    "True and False\n",
    "\n",
    "print('(1 == 2) == 0 = {0}'.format((1 == 2) == 0))\n",
    "\n",
    "a = bool(1)\n",
    "#In int, 0 is falsy. All other values are truthy.\n",
    "b = bool(0)\n",
    "\n",
    "print(a, b)\n"
   ]
  },
  {
   "cell_type": "code",
   "execution_count": 17,
   "metadata": {},
   "outputs": [
    {
     "name": "stdout",
     "output_type": "stream",
     "text": [
      "False False\n",
      "False False False False\n",
      "my_list is empty OR my_list is None\n"
     ]
    }
   ],
   "source": [
    "#Booleans - Object truth values\n",
    "\n",
    "#Every object has a True value, except:\n",
    "None\n",
    "False\n",
    "\n",
    "#Numeric 0 in any numeric type\n",
    "0\n",
    "0.0\n",
    "#bool constructor uses the __bool__ method if it can find it.\n",
    "print(bool(0), (0).__bool__())\n",
    "\n",
    "#Empty sequences (examples below, not exhaustive)\n",
    "#Requires len == 0\n",
    "''\n",
    "[]\n",
    "()\n",
    "{}\n",
    "print(bool(''), bool([]), bool({}), bool(()))\n",
    "#and custom classes that implement __bool__ or __len__that returns False or 0\n",
    "\n",
    "#my_list is empty\n",
    "#__len__ is tested\n",
    "my_list = []\n",
    "\n",
    "if my_list:\n",
    "    print('my_list is not empty AND not None')\n",
    "else:\n",
    "    print('my_list is empty OR my_list is None')\n",
    "\n"
   ]
  },
  {
   "cell_type": "code",
   "execution_count": 21,
   "metadata": {},
   "outputs": [
    {
     "name": "stdout",
     "output_type": "stream",
     "text": [
      "True\n",
      "True\n",
      "False\n"
     ]
    }
   ],
   "source": [
    "#Booleans - precedence\n",
    "\n",
    "#Precedence: comparison operators > not > and > or\n",
    "\n",
    "print(True or True and False)\n",
    "#Parentheses can be added for clarity.\n",
    "print(True or (True and False))\n",
    "#In this case, parentheses change the result.\n",
    "print((True or True) and False)\n",
    "\n",
    "#Short-circuiting"
   ]
  }
 ],
 "metadata": {
  "kernelspec": {
   "display_name": "Python 3.10.2 64-bit",
   "language": "python",
   "name": "python3"
  },
  "language_info": {
   "codemirror_mode": {
    "name": "ipython",
    "version": 3
   },
   "file_extension": ".py",
   "mimetype": "text/x-python",
   "name": "python",
   "nbconvert_exporter": "python",
   "pygments_lexer": "ipython3",
   "version": "3.10.2"
  },
  "orig_nbformat": 4,
  "vscode": {
   "interpreter": {
    "hash": "aee8b7b246df8f9039afb4144a1f6fd8d2ca17a180786b69acc140d282b71a49"
   }
  }
 },
 "nbformat": 4,
 "nbformat_minor": 2
}
