{
 "cells": [
  {
   "cell_type": "markdown",
   "metadata": {},
   "source": [
    "The purpose of this notebook is to list various routine and semi-routine tasks I should be able to do quickly, from memory, without checking external resources.\n",
    "\n",
    "Result will be saved in ./previous_attempts, titled with as timestamp.ipynb."
   ]
  },
  {
   "cell_type": "code",
   "execution_count": null,
   "metadata": {},
   "outputs": [],
   "source": [
    "#While loop:\n",
    "    #that runs at least once before terminating\n",
    "    # with break / continue\n",
    "    # with finally"
   ]
  },
  {
   "cell_type": "code",
   "execution_count": null,
   "metadata": {},
   "outputs": [],
   "source": [
    "#For loop with:\n",
    "    #enumerate\n",
    "    #range\n",
    "    #anoter iterable"
   ]
  },
  {
   "cell_type": "code",
   "execution_count": null,
   "metadata": {},
   "outputs": [],
   "source": [
    "#Define a class including:\n",
    "    #Getter and setter defined with decorators\n",
    "    #Redefine equality and greater/less than functions\n",
    "    #Redefine printing in two ways"
   ]
  }
 ],
 "metadata": {
  "kernelspec": {
   "display_name": "Python 3.9.7 64-bit ('3.9.7')",
   "language": "python",
   "name": "python3"
  },
  "language_info": {
   "name": "python",
   "version": "3.9.7"
  },
  "orig_nbformat": 4,
  "vscode": {
   "interpreter": {
    "hash": "02dc4b6c122a68d2d7e0497ec39f7c86b9cae033eb5498cea800dced910e2c8e"
   }
  }
 },
 "nbformat": 4,
 "nbformat_minor": 2
}
