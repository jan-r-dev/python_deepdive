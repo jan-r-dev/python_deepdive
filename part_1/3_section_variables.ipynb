{
 "cells": [
  {
   "cell_type": "code",
   "execution_count": 5,
   "metadata": {},
   "outputs": [
    {
     "name": "stdout",
     "output_type": "stream",
     "text": [
      "0x101154210\n"
     ]
    }
   ],
   "source": [
    "#Variables in Python are memory references (pointers).\n",
    "#They reference the object stored at a specific memory address\n",
    "my_var = 10\n",
    "\n",
    "#id() returns a base10 number which corresponds to the memory address of the given object\n",
    "#hex() to return a base16\n",
    "print(hex(id(my_var)))"
   ]
  },
  {
   "cell_type": "code",
   "execution_count": 9,
   "metadata": {},
   "outputs": [
    {
     "name": "stdout",
     "output_type": "stream",
     "text": [
      "0x101154210\n",
      "0x101154210\n",
      "10\n",
      "0x101154350\n",
      "0x101154210\n"
     ]
    }
   ],
   "source": [
    "my_var = 10\n",
    "#In this circumstance, my_var_2 will point to the same object in memory.\n",
    "#Their addresses will be the same.\n",
    "my_var_2 = my_var\n",
    "\n",
    "print(hex(id(my_var)))\n",
    "print(hex(id(my_var_2)))\n",
    "\n",
    "\n",
    "my_var = 20\n",
    "\n",
    "#Memory addresses will now be different. my_var_2 will keep the original object\n",
    "#my_var will now be a pointer to a different object of value 20\n",
    "print(hex(id(my_var)))\n",
    "print(hex(id(my_var_2)))\n",
    "\n",
    "#Once both variables are reassigned, the reference count goes down to 0.\n",
    "#If the reference count goes down to 0, the Python Memory Manager will drop the value from memory.\n"
   ]
  },
  {
   "cell_type": "markdown",
   "metadata": {},
   "source": []
  },
  {
   "cell_type": "code",
   "execution_count": 33,
   "metadata": {},
   "outputs": [
    {
     "name": "stdout",
     "output_type": "stream",
     "text": [
      "3\n",
      "2\n"
     ]
    }
   ],
   "source": [
    "import sys\n",
    "import ctypes\n",
    "\n",
    "def ref_count(mem_address: int):\n",
    "    return ctypes.c_long.from_address(mem_address).value\n",
    "\n",
    "l = [1,2,3,4]\n",
    "l2 = l\n",
    "\n",
    "#sys.getrefcount() increases the total reference count by 1 -> 3 total in this case.\n",
    "print(sys.getrefcount(l))\n",
    "\n",
    "#ctypes.c_long.from_address(mem_address).value does not increase the reference count -> 2 total in this case.\n",
    "#id(l) finished running first and releases its pointer, meaning that it does not increase the reference count.\n",
    "print(ref_count(id(l)))\n"
   ]
  },
  {
   "cell_type": "code",
   "execution_count": null,
   "metadata": {},
   "outputs": [],
   "source": [
    "import ctypes\n",
    "import gc\n",
    "import time\n",
    "\n",
    "from multiprocessing.connection import wait\n",
    "from signal import pause\n",
    "\n",
    "def ref_count(mem_address: int):\n",
    "    return ctypes.c_long.from_address(mem_address).value\n",
    "\n",
    "def object_by_id(object_id):\n",
    "    for obj in gc.get_objects():\n",
    "        if id(obj)==object_id:\n",
    "            return \"Object exists\"\n",
    "\n",
    "    return \"Not found\"\n",
    "         \n",
    "#Define two classes to create a circular reference\n",
    "#For GC demonstration   \n",
    "class A:\n",
    "    def __init__(self):\n",
    "        self.b = B(self)\n",
    "        print('A: self: {0}, b: {1}'.format(hex(id(self)), hex(id(self.b))))\n",
    "class B:\n",
    "    def __init__(self, a):\n",
    "        self.a = a\n",
    "        print('B: self: {0}, a: {1}'.format(hex(id(self)), hex(id(self.a))))\n",
    "\n",
    "#Disable GC to allow for the experiment\n",
    "gc.disable()\n",
    "\n",
    "my_var = A()\n",
    "\n",
    "print(hex(id(my_var)))\n",
    "\n",
    "a_id = id(my_var)\n",
    "b_id = id(my_var.b)\n",
    "\n",
    "print(ref_count(a_id))\n",
    "print(ref_count(b_id))\n",
    "\n",
    "print(object_by_id(a_id))\n",
    "print(object_by_id(b_id))\n",
    "\n",
    "#Unset the variable\n",
    "my_var = None\n",
    "\n",
    "#Due to the circular reference, the objects still exist.\n",
    "print(ref_count(a_id))\n",
    "print(ref_count(b_id))\n",
    "\n",
    "#Since GC is disabled, the objects still exist as well.\n",
    "print(object_by_id(a_id))\n",
    "print(object_by_id(b_id))\n",
    "\n",
    "#Run GC manually.\n",
    "gc.collect()\n",
    "\n",
    "#No objects will be found afterwards.\n",
    "print(object_by_id(a_id))\n",
    "print(object_by_id(b_id))\n",
    "\n",
    "time.sleep(5)\n",
    "\n",
    "#ref_count will now return different values, as the memory addresses will eventually be occupied by something else.\n",
    "print(ref_count(a_id))\n",
    "print(ref_count(b_id))"
   ]
  },
  {
   "cell_type": "code",
   "execution_count": 38,
   "metadata": {},
   "outputs": [
    {
     "name": "stdout",
     "output_type": "stream",
     "text": [
      "<class 'int'>\n",
      "<class 'str'>\n",
      "<class 'function'>\n"
     ]
    }
   ],
   "source": [
    "#Dynamic vs Static typing\n",
    "\n",
    "my_var = 5\n",
    "print(type(my_var))\n",
    "\n",
    "my_var = 'Hello'\n",
    "print(type(my_var))\n",
    "\n",
    "my_var = lambda x: 10 * 10\n",
    "print(type(my_var))\n",
    "\n",
    "#my_var is a reference without a static type. The object that my_var references has a type."
   ]
  },
  {
   "cell_type": "code",
   "execution_count": 40,
   "metadata": {},
   "outputs": [
    {
     "name": "stdout",
     "output_type": "stream",
     "text": [
      "0x1030f4210\n",
      "0x1030f4270\n",
      "0x1030f4210\n",
      "0x1030f4210\n"
     ]
    }
   ],
   "source": [
    "#Variable reassignment\n",
    "\n",
    "my_a = 10\n",
    "print(hex(id(my_a)))\n",
    "\n",
    "#Prints a different address than the code above - integer cannot be changed, only reassigned\n",
    "my_a = my_a + 3\n",
    "print(hex(id(my_a)))\n",
    "\n",
    "#Prints the same address\n",
    "my_a = 10\n",
    "my_b = 10\n",
    "print(hex(id(my_a)))\n",
    "print(hex(id(my_b)))"
   ]
  },
  {
   "cell_type": "code",
   "execution_count": 44,
   "metadata": {},
   "outputs": [
    {
     "name": "stdout",
     "output_type": "stream",
     "text": [
      "4\n",
      "([1, 2], [3, 4])\n",
      "([1, 2, 3], [3, 4])\n"
     ]
    }
   ],
   "source": [
    "#Mutability and immutability\n",
    "\n",
    "#tuples are immutable\n",
    "#integers are also immutable, meaning that the tuple below and its contents cannot be changed.\n",
    "t = (1,2,3)\n",
    "\n",
    "#Lists are mutable. While the tuple containing them cannot be changed, the lists themselves can be.\n",
    "t2 = ([1,2], [3,4])\n",
    "print(t2)\n",
    "\n",
    "#The object references in t2 did not change, but one of the objects was mutated.\n",
    "t2[0].append(3)\n",
    "print(t2)"
   ]
  },
  {
   "cell_type": "code",
   "execution_count": 72,
   "metadata": {},
   "outputs": [
    {
     "name": "stdout",
     "output_type": "stream",
     "text": [
      "hello\n",
      "hello there\n",
      "[1, 3, 3, 4, 100]\n",
      "List address: 0x1087f5140\n",
      "Tuple address: 0x109003c40\n",
      "--------------------------------------------------\n",
      "List address: 0x1087f5140\n",
      "Tuple address: 0x10900d120\n",
      "--------------------------------------------------\n",
      "List address: 0x1087f5140\n",
      "Tuple address: 0x109003c40\n",
      "([1, 2, 3, 300], [3, 4, 5, 5000])\n",
      "--------------------------------------------------\n",
      "Since the reference to the list was unchanged, the changes to it propagated to tup1, but the reassignment of t in changeTuple wasn't.\n"
     ]
    }
   ],
   "source": [
    "#Functions arguments and mutability\n",
    "\n",
    "#Immutable objects are safe from unintended side-effects.\n",
    "my_var = 'hello'\n",
    "\n",
    "def changeString(s):\n",
    "    s = s + ' there'\n",
    "    return s\n",
    "my_var_2 = changeString(my_var)\n",
    "\n",
    "\n",
    "#Original my_var will not modified in this scope.\n",
    "print(my_var)\n",
    "print(my_var_2)\n",
    "\n",
    "\n",
    "#Mutable objects are NOT safe.\n",
    "list1 = [1,3,3,4]\n",
    "\n",
    "def changeList(l):\n",
    "    l.append(100)\n",
    "changeList(list1)\n",
    "\n",
    "#list1 has been mutated in this scope as well.\n",
    "print(list1)\n",
    "\n",
    "#Example with mutable inside of an immutable tuple\n",
    "tup1 = ([1,2,3], [3,4,5])\n",
    "\n",
    "def changeTuple(t):\n",
    "    print('List address: ' + hex(id(t[0])))\n",
    "    print('Tuple address: ' + hex(id(t)))\n",
    "    print('-' * 50)\n",
    "    t[0].append(300)\n",
    "\n",
    "    #Here the memory address of the tuple changes, but not of the list.\n",
    "    t = t + ([10000], 1)\n",
    "    print('List address: ' + hex(id(t[0])))\n",
    "    print('Tuple address: ' + hex(id(t)))\n",
    "    print('-' * 50)\n",
    "\n",
    "    t[1].append(5000)\n",
    "\n",
    "changeTuple(tup1)\n",
    "\n",
    "print('List address: ' + hex(id(tup1[0])))\n",
    "print('Tuple address: ' + hex(id(tup1)))\n",
    "print(tup1)\n",
    "print('-' * 50)\n",
    "print('Since the reference to the list was unchanged, the changes to it propagated to tup1, but the reassignment of t in changeTuple wasn\\'t.')\n"
   ]
  },
  {
   "cell_type": "code",
   "execution_count": 87,
   "metadata": {},
   "outputs": [
    {
     "name": "stdout",
     "output_type": "stream",
     "text": [
      "0x105c86e70\n",
      "0x105c86e70\n",
      "0x105c86e70\n",
      "--------------------------------------------------\n",
      "0x10a5d8540\n",
      "0x10a5d8540\n",
      "0x10902c0c0\n",
      "--------------------------------------------------\n",
      "0x103db4ec0\n",
      "0x103db4ec0\n",
      "We can deduce is a variable is 'not set ' by is None: True.\n"
     ]
    }
   ],
   "source": [
    "#Shared references summary\n",
    "\n",
    "a = 'hello'\n",
    "b = a\n",
    "c = 'hello'\n",
    "\n",
    "print(hex(id(a)))\n",
    "print(hex(id(b)))\n",
    "print(hex(id(c)))\n",
    "#Variables above all share the same reference.\n",
    "#This is safe because they are immutable data types.\n",
    "#While Python creates shared references for immutables automatically, it doesn't always do it -> be cautious.\n",
    "\n",
    "print('-' * 50)\n",
    "\n",
    "l1 = [1,2]\n",
    "l2 = l1\n",
    "l3 = [1,2]\n",
    "\n",
    "print(hex(id(l1)))\n",
    "print(hex(id(l2)))\n",
    "print(hex(id(l3)))\n",
    "#Only l1 and l2 share the same memory address.\n",
    "#Python does not automatically create shared references for mutables.\n",
    "\n",
    "print('-' * 50)\n",
    "\n",
    "\n",
    "empty = None\n",
    "empty2 = None\n",
    "\n",
    "print(hex(id(empty)))\n",
    "print(hex(id(empty2)))\n",
    "#Python Memory Manager will always create a shared reference for None objects.\n",
    "#This applies to any number of variables pointing to None throughout the lifetime of the application.\n",
    "\n",
    "print('We can deduce is a variable is \\'not set \\' by is None: {0}.'.format(empty is None))\n",
    "\n",
    "\n"
   ]
  }
 ],
 "metadata": {
  "kernelspec": {
   "display_name": "Python 3.10.2 64-bit",
   "language": "python",
   "name": "python3"
  },
  "language_info": {
   "codemirror_mode": {
    "name": "ipython",
    "version": 3
   },
   "file_extension": ".py",
   "mimetype": "text/x-python",
   "name": "python",
   "nbconvert_exporter": "python",
   "pygments_lexer": "ipython3",
   "version": "3.10.2"
  },
  "orig_nbformat": 4,
  "vscode": {
   "interpreter": {
    "hash": "aee8b7b246df8f9039afb4144a1f6fd8d2ca17a180786b69acc140d282b71a49"
   }
  }
 },
 "nbformat": 4,
 "nbformat_minor": 2
}
