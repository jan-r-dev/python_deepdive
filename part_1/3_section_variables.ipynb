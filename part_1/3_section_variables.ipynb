{
 "cells": [
  {
   "cell_type": "code",
   "execution_count": 5,
   "metadata": {},
   "outputs": [
    {
     "name": "stdout",
     "output_type": "stream",
     "text": [
      "0x101154210\n"
     ]
    }
   ],
   "source": [
    "#Variables in Python are memory references (pointers).\n",
    "#They reference the object stored at a specific memory address\n",
    "my_var = 10\n",
    "\n",
    "#id() returns a base10 number which corresponds to the memory address of the given object\n",
    "#hex() to return a base16\n",
    "print(hex(id(my_var)))"
   ]
  },
  {
   "cell_type": "code",
   "execution_count": 9,
   "metadata": {},
   "outputs": [
    {
     "name": "stdout",
     "output_type": "stream",
     "text": [
      "0x101154210\n",
      "0x101154210\n",
      "10\n",
      "0x101154350\n",
      "0x101154210\n"
     ]
    }
   ],
   "source": [
    "my_var = 10\n",
    "#In this circumstance, my_var_2 will point to the same object in memory.\n",
    "#Their addresses will be the same.\n",
    "my_var_2 = my_var\n",
    "\n",
    "print(hex(id(my_var)))\n",
    "print(hex(id(my_var_2)))\n",
    "\n",
    "\n",
    "my_var = 20\n",
    "\n",
    "#Memory addresses will now be different. my_var_2 will keep the original object\n",
    "#my_var will now be a pointer to a different object of value 20\n",
    "print(hex(id(my_var)))\n",
    "print(hex(id(my_var_2)))\n",
    "\n",
    "#Once both variables are reassigned, the reference count goes down to 0.\n",
    "#If the reference count goes down to 0, the Python Memory Manager will drop the value from memory.\n"
   ]
  },
  {
   "cell_type": "markdown",
   "metadata": {},
   "source": []
  },
  {
   "cell_type": "code",
   "execution_count": 33,
   "metadata": {},
   "outputs": [
    {
     "name": "stdout",
     "output_type": "stream",
     "text": [
      "3\n",
      "2\n"
     ]
    }
   ],
   "source": [
    "import sys\n",
    "import ctypes\n",
    "\n",
    "def ref_count(mem_address: int):\n",
    "    return ctypes.c_long.from_address(mem_address).value\n",
    "\n",
    "l = [1,2,3,4]\n",
    "l2 = l\n",
    "\n",
    "#sys.getrefcount() increases the total reference count by 1 -> 3 total in this case.\n",
    "print(sys.getrefcount(l))\n",
    "\n",
    "#ctypes.c_long.from_address(mem_address).value does not increase the reference count -> 2 total in this case.\n",
    "#id(l) finished running first and releases its pointer, meaning that it does not increase the reference count.\n",
    "print(ref_count(id(l)))\n"
   ]
  },
  {
   "cell_type": "code",
   "execution_count": null,
   "metadata": {},
   "outputs": [],
   "source": [
    "import ctypes\n",
    "import gc\n",
    "import time\n",
    "\n",
    "from multiprocessing.connection import wait\n",
    "from signal import pause\n",
    "\n",
    "def ref_count(mem_address: int):\n",
    "    return ctypes.c_long.from_address(mem_address).value\n",
    "\n",
    "def object_by_id(object_id):\n",
    "    for obj in gc.get_objects():\n",
    "        if id(obj)==object_id:\n",
    "            return \"Object exists\"\n",
    "\n",
    "    return \"Not found\"\n",
    "         \n",
    "#Define two classes to create a circular reference\n",
    "#For GC demonstration   \n",
    "class A:\n",
    "    def __init__(self):\n",
    "        self.b = B(self)\n",
    "        print('A: self: {0}, b: {1}'.format(hex(id(self)), hex(id(self.b))))\n",
    "class B:\n",
    "    def __init__(self, a):\n",
    "        self.a = a\n",
    "        print('B: self: {0}, a: {1}'.format(hex(id(self)), hex(id(self.a))))\n",
    "\n",
    "#Disable GC to allow for the experiment\n",
    "gc.disable()\n",
    "\n",
    "my_var = A()\n",
    "\n",
    "print(hex(id(my_var)))\n",
    "\n",
    "a_id = id(my_var)\n",
    "b_id = id(my_var.b)\n",
    "\n",
    "print(ref_count(a_id))\n",
    "print(ref_count(b_id))\n",
    "\n",
    "print(object_by_id(a_id))\n",
    "print(object_by_id(b_id))\n",
    "\n",
    "#Unset the variable\n",
    "my_var = None\n",
    "\n",
    "#Due to the circular reference, the objects still exist.\n",
    "print(ref_count(a_id))\n",
    "print(ref_count(b_id))\n",
    "\n",
    "#Since GC is disabled, the objects still exist as well.\n",
    "print(object_by_id(a_id))\n",
    "print(object_by_id(b_id))\n",
    "\n",
    "#Run GC manually.\n",
    "gc.collect()\n",
    "\n",
    "#No objects will be found afterwards.\n",
    "print(object_by_id(a_id))\n",
    "print(object_by_id(b_id))\n",
    "\n",
    "time.sleep(5)\n",
    "\n",
    "#ref_count will now return different values, as the memory addresses will eventually be occupied by something else.\n",
    "print(ref_count(a_id))\n",
    "print(ref_count(b_id))"
   ]
  },
  {
   "cell_type": "code",
   "execution_count": 38,
   "metadata": {},
   "outputs": [
    {
     "name": "stdout",
     "output_type": "stream",
     "text": [
      "<class 'int'>\n",
      "<class 'str'>\n",
      "<class 'function'>\n"
     ]
    }
   ],
   "source": [
    "#Dynamic vs Static typing\n",
    "\n",
    "my_var = 5\n",
    "print(type(my_var))\n",
    "\n",
    "my_var = 'Hello'\n",
    "print(type(my_var))\n",
    "\n",
    "my_var = lambda x: 10 * 10\n",
    "print(type(my_var))\n",
    "\n",
    "#my_var is a reference without a static type. The object that my_var references has a type."
   ]
  },
  {
   "cell_type": "code",
   "execution_count": 40,
   "metadata": {},
   "outputs": [
    {
     "name": "stdout",
     "output_type": "stream",
     "text": [
      "0x1030f4210\n",
      "0x1030f4270\n",
      "0x1030f4210\n",
      "0x1030f4210\n"
     ]
    }
   ],
   "source": [
    "#Variable reassignment\n",
    "\n",
    "my_a = 10\n",
    "print(hex(id(my_a)))\n",
    "\n",
    "#Prints a different address than the code above - integer cannot be changed, only reassigned\n",
    "my_a = my_a + 3\n",
    "print(hex(id(my_a)))\n",
    "\n",
    "#Prints the same address\n",
    "my_a = 10\n",
    "my_b = 10\n",
    "print(hex(id(my_a)))\n",
    "print(hex(id(my_b)))"
   ]
  },
  {
   "cell_type": "code",
   "execution_count": 44,
   "metadata": {},
   "outputs": [
    {
     "name": "stdout",
     "output_type": "stream",
     "text": [
      "4\n",
      "([1, 2], [3, 4])\n",
      "([1, 2, 3], [3, 4])\n"
     ]
    }
   ],
   "source": [
    "#Mutability and immutability\n",
    "\n",
    "#tuples are immutable\n",
    "#integers are also immutable, meaning that the tuple below and its contents cannot be changed.\n",
    "t = (1,2,3)\n",
    "\n",
    "#Lists are mutable. While the tuple containing them cannot be changed, the lists themselves can be.\n",
    "t2 = ([1,2], [3,4])\n",
    "print(t2)\n",
    "\n",
    "#The object references in t2 did not change, but one of the objects was mutated.\n",
    "t2[0].append(3)\n",
    "print(t2)"
   ]
  },
  {
   "cell_type": "code",
   "execution_count": 72,
   "metadata": {},
   "outputs": [
    {
     "name": "stdout",
     "output_type": "stream",
     "text": [
      "hello\n",
      "hello there\n",
      "[1, 3, 3, 4, 100]\n",
      "List address: 0x1087f5140\n",
      "Tuple address: 0x109003c40\n",
      "--------------------------------------------------\n",
      "List address: 0x1087f5140\n",
      "Tuple address: 0x10900d120\n",
      "--------------------------------------------------\n",
      "List address: 0x1087f5140\n",
      "Tuple address: 0x109003c40\n",
      "([1, 2, 3, 300], [3, 4, 5, 5000])\n",
      "--------------------------------------------------\n",
      "Since the reference to the list was unchanged, the changes to it propagated to tup1, but the reassignment of t in changeTuple wasn't.\n"
     ]
    }
   ],
   "source": [
    "#Functions arguments and mutability\n",
    "\n",
    "#Immutable objects are safe from unintended side-effects.\n",
    "my_var = 'hello'\n",
    "\n",
    "def changeString(s):\n",
    "    s = s + ' there'\n",
    "    return s\n",
    "my_var_2 = changeString(my_var)\n",
    "\n",
    "\n",
    "#Original my_var will not modified in this scope.\n",
    "print(my_var)\n",
    "print(my_var_2)\n",
    "\n",
    "\n",
    "#Mutable objects are NOT safe.\n",
    "list1 = [1,3,3,4]\n",
    "\n",
    "def changeList(l):\n",
    "    l.append(100)\n",
    "changeList(list1)\n",
    "\n",
    "#list1 has been mutated in this scope as well.\n",
    "print(list1)\n",
    "\n",
    "#Example with mutable inside of an immutable tuple\n",
    "tup1 = ([1,2,3], [3,4,5])\n",
    "\n",
    "def changeTuple(t):\n",
    "    print('List address: ' + hex(id(t[0])))\n",
    "    print('Tuple address: ' + hex(id(t)))\n",
    "    print('-' * 50)\n",
    "    t[0].append(300)\n",
    "\n",
    "    #Here the memory address of the tuple changes, but not of the list.\n",
    "    t = t + ([10000], 1)\n",
    "    print('List address: ' + hex(id(t[0])))\n",
    "    print('Tuple address: ' + hex(id(t)))\n",
    "    print('-' * 50)\n",
    "\n",
    "    t[1].append(5000)\n",
    "\n",
    "changeTuple(tup1)\n",
    "\n",
    "print('List address: ' + hex(id(tup1[0])))\n",
    "print('Tuple address: ' + hex(id(tup1)))\n",
    "print(tup1)\n",
    "print('-' * 50)\n",
    "print('Since the reference to the list was unchanged, the changes to it propagated to tup1, but the reassignment of t in changeTuple wasn\\'t.')\n"
   ]
  },
  {
   "cell_type": "code",
   "execution_count": 3,
   "metadata": {},
   "outputs": [
    {
     "name": "stdout",
     "output_type": "stream",
     "text": [
      "0x10366f0b0\n",
      "0x10366f0b0\n",
      "0x10366f0b0\n",
      "--------------------------------------------------\n",
      "0x103f13180\n",
      "0x103f13180\n",
      "0x103f1e300\n",
      "--------------------------------------------------\n",
      "0x101454ec0\n",
      "0x101454ec0\n",
      "We can deduce is a variable is 'not set ' by is None: True.\n",
      "0x101454ec0\n",
      "<class 'NoneType'>\n"
     ]
    }
   ],
   "source": [
    "#Shared references summary\n",
    "\n",
    "a = 'hello'\n",
    "b = a\n",
    "c = 'hello'\n",
    "\n",
    "print(hex(id(a)))\n",
    "print(hex(id(b)))\n",
    "print(hex(id(c)))\n",
    "#Variables above all share the same reference. This is a result of interning.\n",
    "#This is safe because they are immutable data types.\n",
    "#While Python creates shared references for immutables automatically, it doesn't always do it -> interning is done in range [-5, 256]\n",
    "\n",
    "print('-' * 50)\n",
    "\n",
    "l1 = [1,2]\n",
    "l2 = l1\n",
    "l3 = [1,2]\n",
    "\n",
    "print(hex(id(l1)))\n",
    "print(hex(id(l2)))\n",
    "print(hex(id(l3)))\n",
    "#Only l1 and l2 share the same memory address.\n",
    "#Python does not automatically create shared references for mutables.\n",
    "\n",
    "print('-' * 50)\n",
    "\n",
    "\n",
    "empty = None\n",
    "empty2 = None\n",
    "\n",
    "print(hex(id(empty)))\n",
    "print(hex(id(empty2)))\n",
    "#Python Memory Manager will always create a shared reference for None objects.\n",
    "#This applies to any number of variables pointing to None throughout the lifetime of the application.\n",
    "\n",
    "print('We can deduce is a variable is \\'not set \\' by is None: {0}.'.format(empty is None))\n",
    "\n",
    "print(hex(id(None)))\n",
    "print(type(None))\n",
    "\n",
    "\n"
   ]
  },
  {
   "cell_type": "code",
   "execution_count": 12,
   "metadata": {},
   "outputs": [
    {
     "name": "stdout",
     "output_type": "stream",
     "text": [
      "29\n",
      "4\n"
     ]
    }
   ],
   "source": [
    "#Retrieve useful info about a class\n",
    "#help(int)\n",
    "\n",
    "foo = int('1D', base=16)\n",
    "print(foo)\n",
    "\n",
    "def square(a, b):\n",
    "    return a ** b\n",
    "\n",
    "#Functions can be assigned just like any other object.\n",
    "bar = square\n",
    "\n",
    "print(bar(2, 2))"
   ]
  },
  {
   "cell_type": "code",
   "execution_count": 21,
   "metadata": {},
   "outputs": [
    {
     "name": "stdout",
     "output_type": "stream",
     "text": [
      "0x1007960d0\n",
      "0x1007960d0\n",
      "True\n",
      "0x10b9d5ad0\n",
      "0x10b9d5870\n",
      "False\n",
      "True\n"
     ]
    }
   ],
   "source": [
    "#Interning in range [-5, 256]\n",
    "\n",
    "a = 256\n",
    "b = 256\n",
    "print(hex(id(a)))\n",
    "print(hex(id(b)))\n",
    "print(a is b)\n",
    "\n",
    "\n",
    "c = 257\n",
    "d = 257\n",
    "print(hex(id(c)))\n",
    "print(hex(id(d)))\n",
    "print(c is d)\n",
    "\n",
    "#It doesn't matter how the integer is created.\n",
    "a = 10\n",
    "b = int(10)\n",
    "c = int('10')\n",
    "d = int('1010', base=2)\n",
    "\n",
    "print(a is b  is c is d)\n"
   ]
  },
  {
   "cell_type": "code",
   "execution_count": 28,
   "metadata": {},
   "outputs": [
    {
     "name": "stdout",
     "output_type": "stream",
     "text": [
      "True\n",
      "True\n",
      "False\n",
      "True\n",
      "True\n",
      "True\n",
      "This will only work if you intern every instance of that string. See 'a is c': False\n"
     ]
    }
   ],
   "source": [
    "#String interning\n",
    "import sys\n",
    "\n",
    "#This will be interned automatically. (Because it 'looks' like an identifier.)\n",
    "a = 'hello'\n",
    "b = 'hello'\n",
    "\n",
    "print(a is b)\n",
    "print(a == b)\n",
    "\n",
    "#This will not be interned automatically.\n",
    "a = 'for all the vain attempts'\n",
    "b = 'for all the vain attempts'\n",
    "\n",
    "print(a is b)\n",
    "print(a == b)\n",
    "\n",
    "#Here we force the interning.\n",
    "a = sys.intern('for all the vain attempts')\n",
    "b = sys.intern('for all the vain attempts')\n",
    "c = 'for all the vain attempts'\n",
    "\n",
    "print(a is b)\n",
    "print(a == b)\n",
    "\n",
    "print('This will only work if you intern every instance of that string. See \\'a is c\\': {0}'.format(a is c))"
   ]
  },
  {
   "cell_type": "code",
   "execution_count": 32,
   "metadata": {},
   "outputs": [
    {
     "name": "stdout",
     "output_type": "stream",
     "text": [
      "4.481010666117072\n",
      "0.17018029210157692\n"
     ]
    }
   ],
   "source": [
    "#Benchmarking string interning\n",
    "import time\n",
    "import sys\n",
    "\n",
    "def compare_equals(n):\n",
    "    a = 'I am a very long string' * 500\n",
    "    b = 'I am a very long string' * 500\n",
    "    for v in range(n):\n",
    "        if a == b:\n",
    "            pass\n",
    "\n",
    "def compare_intern(n):\n",
    "    a = sys.intern('I am a very long string' * 500)\n",
    "    b = sys.intern('I am a very long string' * 500)\n",
    "\n",
    "    for v in range(n):\n",
    "        if a is b:\n",
    "            pass\n",
    "\n",
    "\n",
    "start_equals = time.perf_counter()\n",
    "compare_equals(10000000)\n",
    "end_equals = time.perf_counter()\n",
    "\n",
    "start_intern = time.perf_counter()\n",
    "compare_intern(10000000)\n",
    "end_intern = time.perf_counter()\n",
    "\n",
    "print(end_equals - start_equals)\n",
    "print(end_intern - start_intern)\n",
    "\n",
    "#Example results (in seconds):\n",
    "#   4.481010666117072\n",
    "#   0.17018029210157692\n"
   ]
  },
  {
   "cell_type": "code",
   "execution_count": 36,
   "metadata": {},
   "outputs": [
    {
     "data": {
      "text/plain": [
       "(None, (1, 2, 3), frozenset({1, 2, 3}))"
      ]
     },
     "execution_count": 36,
     "metadata": {},
     "output_type": "execute_result"
    }
   ],
   "source": [
    "#Peephole optimisations\n",
    "\n",
    "#Constants get pre-calculated in bytecode (immutables, constant expressions)\n",
    "def foo():\n",
    "    a = 24 * 60\n",
    "    b = 'hello'\n",
    "    c = (1,2) * 5\n",
    "    d = 'abc' * 50\n",
    "    e = ['a', 'b'] * 5\n",
    "\n",
    "foo.__code__.co_consts\n",
    "\n",
    "\n",
    "def bar(e): \n",
    "    if e in [1,2,3]:\n",
    "        pass\n",
    "\n",
    "    if e in {1,2,3}:\n",
    "        pass\n",
    "\n",
    "bar.__code__.co_consts"
   ]
  },
  {
   "cell_type": "code",
   "execution_count": 42,
   "metadata": {},
   "outputs": [
    {
     "name": "stdout",
     "output_type": "stream",
     "text": [
      "0.21509129204787314\n",
      "2.610203708987683\n",
      "0.21353366714902222\n",
      "['a', 'b', 'c', 'd', 'e', 'f', 'g', 'h', 'i', 'j', 'k', 'l', 'm', 'n', 'o', 'p', 'q', 'r', 's', 't', 'u', 'v', 'w', 'x', 'y', 'z', 'A', 'B', 'C', 'D', 'E', 'F', 'G', 'H', 'I', 'J', 'K', 'L', 'M', 'N', 'O', 'P', 'Q', 'R', 'S', 'T', 'U', 'V', 'W', 'X', 'Y', 'Z']\n"
     ]
    }
   ],
   "source": [
    "#Membership test performance\n",
    "import numbers\n",
    "import string\n",
    "import time\n",
    "\n",
    "charset = string.ascii_letters\n",
    "\n",
    "char_list = list(charset)\n",
    "char_tuple = tuple(charset)\n",
    "char_set = set(charset)\n",
    "\n",
    "def membership_test(n: int, container: list[str] | tuple[str] | set[str]):\n",
    "    for v in range(n):\n",
    "        if 'E' in container:\n",
    "            pass\n",
    "\n",
    "start_list = time.perf_counter()\n",
    "membership_test(10000000, set(char_list))\n",
    "end_list = time.perf_counter()\n",
    "\n",
    "start_tuple = time.perf_counter()\n",
    "membership_test(10000000, char_tuple)\n",
    "end_tuple = time.perf_counter()\n",
    "\n",
    "start_set = time.perf_counter()\n",
    "membership_test(10000000, char_set)\n",
    "end_set = time.perf_counter()\n",
    "\n",
    "print(end_list - start_list)\n",
    "print(end_tuple - start_tuple)\n",
    "print(end_set - start_set)\n",
    "\n",
    "#Example results\n",
    "#    2.7387262501288205\n",
    "#    2.605181416030973\n",
    "#    0.21358341607265174\n",
    "\n",
    "#Conclusion: Set membership tests are far more performant."
   ]
  }
 ],
 "metadata": {
  "kernelspec": {
   "display_name": "Python 3.10.2 64-bit",
   "language": "python",
   "name": "python3"
  },
  "language_info": {
   "codemirror_mode": {
    "name": "ipython",
    "version": 3
   },
   "file_extension": ".py",
   "mimetype": "text/x-python",
   "name": "python",
   "nbconvert_exporter": "python",
   "pygments_lexer": "ipython3",
   "version": "3.10.2"
  },
  "orig_nbformat": 4,
  "vscode": {
   "interpreter": {
    "hash": "aee8b7b246df8f9039afb4144a1f6fd8d2ca17a180786b69acc140d282b71a49"
   }
  }
 },
 "nbformat": 4,
 "nbformat_minor": 2
}
